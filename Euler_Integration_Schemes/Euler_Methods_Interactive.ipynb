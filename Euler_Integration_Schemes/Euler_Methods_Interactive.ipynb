{
 "cells": [
  {
   "cell_type": "markdown",
   "metadata": {},
   "source": [
    "# Time-Integration Methods for ODEs\n"
   ]
  },
  {
   "cell_type": "markdown",
   "metadata": {},
   "source": [
    "- Author      : Alan Jason Correa\n",
    "- Date Created: 22.11.20\n",
    "- Last Updated: 06.12.20"
   ]
  },
  {
   "cell_type": "markdown",
   "metadata": {},
   "source": [
    "This Notebook briefly explains the following Time Integration Methods for solving Differential Equations:\n",
    "1. Explicit Euler Method\n",
    "2. Implicit Euler Method\n",
    "    - using Analytical Derivative at next time step\n",
    "    - using Matrix Methods\n",
    "    - using Iterative Solution Methods"
   ]
  },
  {
   "cell_type": "code",
   "execution_count": 14,
   "metadata": {},
   "outputs": [],
   "source": [
    "# Importing Necessary Libraries\n",
    "import math\n",
    "import numpy as np\n",
    "import matplotlib.pyplot as plt\n",
    "plt.rcParams[\"figure.figsize\"] = 6, 5"
   ]
  },
  {
   "cell_type": "code",
   "execution_count": 15,
   "metadata": {},
   "outputs": [],
   "source": [
    "from ipywidgets import *\n",
    "%matplotlib widget"
   ]
  },
  {
   "cell_type": "code",
   "execution_count": 16,
   "metadata": {},
   "outputs": [],
   "source": [
    "# Defining the Hyper Parameters for the given Problem\n",
    "pi = math.pi\n",
    "lmda = -5.0\n",
    "\n",
    "# Total Time for Solution Space\n",
    "run_time = 1 * pi\n",
    "# Time Increment Interval\n",
    "h = pi/25\n",
    "# Number of Solution Steps\n",
    "n = int(run_time/h)    "
   ]
  },
  {
   "cell_type": "markdown",
   "metadata": {},
   "source": [
    "## Ordinary Differential Equation to be Solved"
   ]
  },
  {
   "cell_type": "markdown",
   "metadata": {},
   "source": [
    "$$y' = \\lambda (y - sin(t)) + cos(t)$$"
   ]
  },
  {
   "cell_type": "markdown",
   "metadata": {},
   "source": [
    "###  - Defining Time-Derivative Function -- f(y, t)"
   ]
  },
  {
   "cell_type": "code",
   "execution_count": 17,
   "metadata": {},
   "outputs": [],
   "source": [
    "def f(y, t):\n",
    "    global lmda\n",
    "    return (lmda * (y - math.sin(t)) + math.cos(t))"
   ]
  },
  {
   "cell_type": "markdown",
   "metadata": {},
   "source": [
    "### - Initial Conditions"
   ]
  },
  {
   "cell_type": "code",
   "execution_count": 18,
   "metadata": {},
   "outputs": [],
   "source": [
    "# Defining Initial Conditions\n",
    "t_init = 0.0\n",
    "y_init = 1/math.sqrt(2)"
   ]
  },
  {
   "cell_type": "markdown",
   "metadata": {},
   "source": [
    "\n",
    "## Exact Solution for given ODE"
   ]
  },
  {
   "cell_type": "markdown",
   "metadata": {},
   "source": [
    "$$y = (y_0 - sint_0)e^{\\lambda(t - t_0)} + sin(t)$$"
   ]
  },
  {
   "cell_type": "code",
   "execution_count": 19,
   "metadata": {},
   "outputs": [],
   "source": [
    "def y_exact(t):\n",
    "    global y_init,t_init\n",
    "    return (np.multiply((y_init - np.sin(t_init)), np.exp(lmda * (t - t_init)) ) + np.sin(t))"
   ]
  },
  {
   "cell_type": "markdown",
   "metadata": {},
   "source": [
    "### - Plot for Exact Solution"
   ]
  },
  {
   "cell_type": "code",
   "execution_count": 20,
   "metadata": {},
   "outputs": [
    {
     "data": {
      "application/vnd.jupyter.widget-view+json": {
       "model_id": "6ac387819c7d4c6db107655573e40a3f",
       "version_major": 2,
       "version_minor": 0
      },
      "text/plain": [
       "Canvas(toolbar=Toolbar(toolitems=[('Home', 'Reset original view', 'home', 'home'), ('Back', 'Back to previous …"
      ]
     },
     "metadata": {},
     "output_type": "display_data"
    }
   ],
   "source": [
    "def exact_solution(h, n, y_exact):\n",
    "    t_analytical = np.linspace(t_init, t_init + n * h, n*10)\n",
    "    y_analytical = y_exact(t_analytical)\n",
    "    \n",
    "    return (y_analytical, t_analytical)\n",
    "\n",
    "(y_analytical, t_analytical) = exact_solution(h, n, y_exact)\n",
    "\n",
    "fig1 = plt.subplot()\n",
    "fig1.plot(t_analytical, y_analytical, label='exact', color='gray',linewidth='3')\n",
    "fig1.legend(prop={'size': 14})\n",
    "fig1.set_xlabel('t', size=16)\n",
    "fig1.set_ylabel('y', size=16)\n",
    "fig1.tick_params(labelsize=14)\n",
    "\n",
    "plt.show()\n"
   ]
  },
  {
   "cell_type": "markdown",
   "metadata": {},
   "source": [
    "## Approximate Solutions to ODE  (Time Integration Schemes)"
   ]
  },
  {
   "cell_type": "markdown",
   "metadata": {},
   "source": [
    "### - Explict Euler Method\n"
   ]
  },
  {
   "cell_type": "code",
   "execution_count": 21,
   "metadata": {},
   "outputs": [],
   "source": [
    "def explicit_euler(h, n):\n",
    "\n",
    "    # Setting Initial Conditions for the Initial Value Problem\n",
    "    y_0 = y_init\n",
    "    t_0 = t_init\n",
    "\n",
    "    # Initializing Solution Arrays with Initial Values\n",
    "    y_explicit = np.array(y_0)\n",
    "    t_explicit = np.array(t_0)\n",
    "\n",
    "\n",
    "    y_next = y_0\n",
    "    t_next = t_0\n",
    "\n",
    "    # Marching Forward in time\n",
    "    for i in range(n):\n",
    "\n",
    "        # Calculate Solution at Next Time Step\n",
    "        y_next = y_next + h * (f(y_next, t_next))\n",
    "\n",
    "        # Increment Time Step\n",
    "        t_next = t_next + h\n",
    "\n",
    "        # Storing Values for Plotting\n",
    "        y_explicit = np.append(y_explicit, y_next)\n",
    "        t_explicit = np.append(t_explicit, t_next)\n",
    "\n",
    "    return y_explicit, t_explicit"
   ]
  },
  {
   "cell_type": "markdown",
   "metadata": {},
   "source": [
    "### - Implicit Euler Method"
   ]
  },
  {
   "cell_type": "code",
   "execution_count": 22,
   "metadata": {},
   "outputs": [],
   "source": [
    "# Setting Initial Conditions for the Initial Value Problem\n",
    "y_0 = y_init\n",
    "t_0 = t_init"
   ]
  },
  {
   "cell_type": "markdown",
   "metadata": {},
   "source": [
    "#### a) Analytical Derivate Calculation Method"
   ]
  },
  {
   "cell_type": "code",
   "execution_count": 23,
   "metadata": {},
   "outputs": [],
   "source": [
    "def implicit_euler_analytical(h, n):\n",
    "    \"\"\"\n",
    "    Method 1  : Using Analytically Calculated Derivative of y at t_n+1\n",
    "    Stability : Unconditionally Stable\n",
    "    Drawback  : Derivative at t_n+1 needs to be manually calculated for each function\n",
    "\n",
    "    # See calculation of derivative at next time step here\n",
    "    # http://people.bu.edu/andasari/courses/numericalpython/Week5Lecture8/ExtraHandout_Lecture8.pdf\n",
    "    \"\"\" \n",
    "\n",
    "    # Initializing Solution Arrays\n",
    "    global y_implicit_1\n",
    "    global t_implicit_1\n",
    "    y_implicit_1 = np.array(y_0)\n",
    "    t_implicit_1 = np.array(t_0)\n",
    "\n",
    "    # Initializing Parameters for Time Integration\n",
    "    y_next = y_0\n",
    "    t_next = t_0\n",
    "    calculations = 0\n",
    "\n",
    "    # Marching Forward in time\n",
    "    for i in range(n):\n",
    "        calculations +=1\n",
    "\n",
    "        # Increment Time\n",
    "        t_next = t_next + h \n",
    "\n",
    "        # Calculate Solution at Next Time Step\n",
    "        y_next = y_next + h * (1 / (1 - h*lmda) * f(y_next, t_next)) \n",
    "\n",
    "        # Storing Values for Plotting\n",
    "        y_implicit_1 = np.append(y_implicit_1, y_next)\n",
    "        t_implicit_1 = np.append(t_implicit_1, t_next)\n",
    "\n",
    "    return (y_implicit_1, t_implicit_1)\n"
   ]
  },
  {
   "cell_type": "markdown",
   "metadata": {},
   "source": [
    "#### b) Matrix Inversion Method"
   ]
  },
  {
   "cell_type": "code",
   "execution_count": 24,
   "metadata": {},
   "outputs": [],
   "source": [
    "def implicit_euler_matrix(h,n):\n",
    "    \"\"\"\n",
    "    Method 2  : Using Matrix Methods for the Entire Solution Space\n",
    "    Stability : Unconditionally Stable\n",
    "    Drawback  : Matrix Inversion needs to be performed\n",
    "    \"\"\" \n",
    "\n",
    "    # In this method we solve for the system of Linear Equations\n",
    "    # A y = b -----> y = inv(A) * b\n",
    "\n",
    "    # Initializing Solution Arrays with Intitial Values\n",
    "    global y_implicit_2\n",
    "    global t_implicit_2\n",
    "    y_implicit_2 = np.array(y_0)\n",
    "    t_implicit_2 = np.array(t_0)\n",
    "\n",
    "    # Initializing Parameters for Solution\n",
    "    t_next = t_0\n",
    "    y_next = y_0\n",
    "    b = np.zeros(n)\n",
    "    A = np.zeros(n*n).reshape(n, n)\n",
    "\n",
    "    #Setting Up Vector b\n",
    "    for i in range(n):\n",
    "        t_next = t_next + h\n",
    "        t_implicit_2 = np.append(t_implicit_2, t_next)\n",
    "        b_n = -h * (lmda * math.sin(t_next) - math.cos(t_next))\n",
    "        if i==0:\n",
    "            b[i] = b_n + y_0\n",
    "        else:\n",
    "            b[i] = b_n\n",
    "\n",
    "    # Setting Up Matrix A\n",
    "    for i in range(n):\n",
    "        A[i,i] = 1 - h * lmda\n",
    "        if i > 0:\n",
    "            A[i, i-1] = -1\n",
    "\n",
    "    # Matrix Inversion\n",
    "    A_inv = np.linalg.inv(A)\n",
    "\n",
    "    # Calculating Solution Space\n",
    "    y_sol = A_inv @ b\n",
    "\n",
    "    # Adding Initial Value to Solution Space\n",
    "    y_implicit_2 = np.append(y_implicit_2, y_sol)\n",
    "\n",
    "    return (y_implicit_2, t_implicit_2)"
   ]
  },
  {
   "cell_type": "markdown",
   "metadata": {},
   "source": [
    "#### c) Iterative Method"
   ]
  },
  {
   "cell_type": "code",
   "execution_count": 25,
   "metadata": {},
   "outputs": [],
   "source": [
    "def implicit_euler_iterative(h,n):\n",
    "\n",
    "    \"\"\"\n",
    "    Method 3  : Using Iterative Predictor-Corrector Methods\n",
    "    Stability : Conditionally Stable due to numerical approximation errors\n",
    "    Drawback  : Convergence is not guaranteed\n",
    "    \"\"\" \n",
    "    # Initializing Solution Arrays\n",
    "    global y_implicit_3\n",
    "    global t_implicit_3\n",
    "    y_implicit_3 = np.array(y_0)\n",
    "    t_implicit_3 = np.array(t_0)\n",
    "\n",
    "    # Initializing Parameters for Time Integration\n",
    "    y_next = y_0\n",
    "    t_next = t_0\n",
    "    convergence = True\n",
    "    calculations = 0\n",
    "    tolerance = 1e-10\n",
    "    div_limit = 10000\n",
    "\n",
    "    # Marching Forward in time\n",
    "    for i in range(n):\n",
    "        if (convergence):\n",
    "            # Initialize Error for Convergence testing\n",
    "            error = 1\n",
    "            iteration = 0\n",
    "\n",
    "            # Predictor - Explicit Euler\n",
    "            y_next_iter = y_next + h * (f(y_next, t_next))\n",
    "\n",
    "            # Increment Time\n",
    "            t_next = t_next + h\n",
    "\n",
    "            # Iterative Convergence using Corrector\n",
    "            while(True and convergence):\n",
    "\n",
    "                iteration +=1\n",
    "                calculations +=1\n",
    "\n",
    "                y_prev_iter = y_next_iter\n",
    "\n",
    "                # Corrector \n",
    "                y_next_iter = y_next + h * f(y_next_iter, t_next)\n",
    "\n",
    "                # Calculate Error\n",
    "                error = abs(y_next_iter - y_prev_iter)\n",
    "\n",
    "                # When solution converges \n",
    "                if(error < tolerance):\n",
    "                    # Use converged Value of Solution for next Time Step\n",
    "                    y_next = y_next_iter\n",
    "\n",
    "                    # Store Values for Plotting\n",
    "                    y_implicit_3 = np.append(y_implicit_3, y_next)\n",
    "                    t_implicit_3 = np.append(t_implicit_3, t_next)\n",
    "                    break\n",
    "\n",
    "                # When solution diverges\n",
    "                if(iteration > div_limit):\n",
    "                    convergence = False\n",
    "                    print(\"Implicit Euler - Iterative Solution Diverged!\")\n",
    "                    \n",
    "    return (y_implicit_3, t_implicit_3)"
   ]
  },
  {
   "cell_type": "markdown",
   "metadata": {},
   "source": [
    "### - Plots for Approximate Solutions Explicit and Implicit Euler TIme Integration Schemes"
   ]
  },
  {
   "cell_type": "code",
   "execution_count": 26,
   "metadata": {
    "pycharm": {
     "name": "#%%\n"
    }
   },
   "outputs": [
    {
     "data": {
      "application/vnd.jupyter.widget-view+json": {
       "model_id": "ecf6ab645fe94a738d9a641bbf44293f",
       "version_major": 2,
       "version_minor": 0
      },
      "text/plain": [
       "Canvas(toolbar=Toolbar(toolitems=[('Home', 'Reset original view', 'home', 'home'), ('Back', 'Back to previous …"
      ]
     },
     "metadata": {},
     "output_type": "display_data"
    },
    {
     "data": {
      "application/vnd.jupyter.widget-view+json": {
       "model_id": "f180988d9f16492bba7b02c82c1c47ff",
       "version_major": 2,
       "version_minor": 0
      },
      "text/plain": [
       "interactive(children=(FloatSlider(value=0.15707963267948966, description='Time_Step', max=0.7853981633974483, …"
      ]
     },
     "metadata": {},
     "output_type": "display_data"
    }
   ],
   "source": [
    "# Calculate Solutions\n",
    "(y_explicit, t_explicit) = explicit_euler(h, n)\n",
    "(y_implicit_1, t_implicit_1) = implicit_euler_analytical(h, n)\n",
    "(y_implicit_2, t_implicit_2) = implicit_euler_matrix(h, n)\n",
    "(y_implicit_3, t_implicit_3) = implicit_euler_iterative(h, n)\n",
    "\n",
    "# Create New Plot\n",
    "fig = plt.figure()\n",
    "ax = fig.add_subplot(111)\n",
    "\n",
    "# Plotting the Solutions for ODE - Exact and Numerical Solutions\n",
    "line1, = ax.plot(t_analytical, y_analytical, label='exact', color='gray',linewidth='3')\n",
    "line2, = ax.plot(t_implicit_1, y_implicit_1, label='impicit_analytical', color='gold', markersize='10', marker='s', linestyle='dotted', linewidth='2')\n",
    "line3, = ax.plot(t_implicit_2, y_implicit_2, label='impicit_matrix', color='mediumpurple', markersize='10', marker='*', linestyle='-.', linewidth='2')\n",
    "line4, = ax.plot(t_implicit_3, y_implicit_3, label='impicit_iterative', color='tomato', markersize='10', marker='x', linestyle='-.', linewidth='2')\n",
    "line5, = ax.plot(t_explicit  , y_explicit  , label='explicit', color='deepskyblue', markersize='10', marker = '+', linestyle='--', linewidth='2')\n",
    "\n",
    "# Setting Up the Plot Properties\n",
    "ax.legend(prop={'size': 14}, loc='lower right')\n",
    "ax.set_xlabel('t', size=16)\n",
    "ax.set_ylabel('y', size=16)\n",
    "ax.tick_params(labelsize=14)\n",
    "\n",
    "# Update Function for Interactive Plot\n",
    "def update(Time_Step=pi/20, lamda = -2, Total_Time = pi):\n",
    "    global lmda, run_time, h\n",
    "    # Update Values from Sliders for Solutions\n",
    "    lmda = lamda\n",
    "    h = Time_Step\n",
    "    run_time = Total_Time\n",
    "    n = int(run_time/h)\n",
    "    print(\" \", end='\\r')\n",
    "    \n",
    "    # Calculate New Solutions\n",
    "    (y_analytical, t_analytical) = exact_solution(h, n, y_exact)\n",
    "    (y_explicit, t_explicit) = explicit_euler(h, n)\n",
    "    (y_implicit_1, t_implicit_1) = implicit_euler_analytical(h, n)\n",
    "    (y_implicit_2, t_implicit_2) = implicit_euler_matrix(h, n)\n",
    "    (y_implicit_3, t_implicit_3) = implicit_euler_iterative(h, n)\n",
    "    \n",
    "    # Update Plotting Data with New Solutions\n",
    "    line1.set_ydata(y_analytical)\n",
    "    line1.set_xdata(t_analytical)\n",
    "    \n",
    "    line2.set_ydata(y_implicit_1)\n",
    "    line2.set_xdata(t_implicit_1)\n",
    "    \n",
    "    line3.set_ydata(y_implicit_2)\n",
    "    line3.set_xdata(t_implicit_2)\n",
    "    \n",
    "    line4.set_ydata(y_implicit_3)\n",
    "    line4.set_xdata(t_implicit_3)\n",
    "    \n",
    "    line5.set_ydata(y_explicit)\n",
    "    line5.set_xdata(t_explicit)\n",
    "    \n",
    "    # Scaling Settings\n",
    "    ax.relim()\n",
    "    plot_ylim = ax.get_ylim()\n",
    "    if(plot_ylim[0] > -1.2): \n",
    "        ax.autoscale_view(scaley=True, scalex=True)\n",
    "    else:\n",
    "        ax.autoscale_view(scaley=False, scalex=True)\n",
    "    \n",
    "    # Update Plot\n",
    "    plt.show()\n",
    "    \n",
    "# Show Interactive Plot    \n",
    "interact(update, Time_Step = (pi/150, pi/4, pi/200), lamda=(-15.0, -0.1, 0.5), Total_Time = (pi/8, 5*pi, pi/15));"
   ]
  }
 ],
 "metadata": {
  "kernelspec": {
   "display_name": "Python 3",
   "language": "python",
   "name": "python3"
  },
  "language_info": {
   "codemirror_mode": {
    "name": "ipython",
    "version": 3
   },
   "file_extension": ".py",
   "mimetype": "text/x-python",
   "name": "python",
   "nbconvert_exporter": "python",
   "pygments_lexer": "ipython3",
   "version": "3.7.3"
  }
 },
 "nbformat": 4,
 "nbformat_minor": 4
}
